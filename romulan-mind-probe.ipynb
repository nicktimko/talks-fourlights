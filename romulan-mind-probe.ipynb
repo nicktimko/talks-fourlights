{
 "cells": [
  {
   "cell_type": "markdown",
   "metadata": {},
   "source": [
    "# DIY-investigations"
   ]
  },
  {
   "cell_type": "code",
   "execution_count": 1,
   "metadata": {},
   "outputs": [
    {
     "data": {
      "text/plain": [
       "94752032467040"
      ]
     },
     "execution_count": 1,
     "metadata": {},
     "output_type": "execute_result"
    }
   ],
   "source": [
    "id(4)"
   ]
  },
  {
   "cell_type": "code",
   "execution_count": 2,
   "metadata": {},
   "outputs": [
    {
     "data": {
      "text/plain": [
       "'0x562d_2d3c_a860'"
      ]
     },
     "execution_count": 2,
     "metadata": {},
     "output_type": "execute_result"
    }
   ],
   "source": [
    "f\"{id(4):#_x}\"\n",
    "#        #    : include 0x/0b/0o\n",
    "#         _   : add delimiters\n",
    "#          x  : lowercase hex"
   ]
  },
  {
   "cell_type": "code",
   "execution_count": 3,
   "metadata": {},
   "outputs": [
    {
     "data": {
      "text/plain": [
       "32"
      ]
     },
     "execution_count": 3,
     "metadata": {},
     "output_type": "execute_result"
    }
   ],
   "source": [
    "id(5) - id(4)"
   ]
  },
  {
   "cell_type": "code",
   "execution_count": 4,
   "metadata": {},
   "outputs": [
    {
     "data": {
      "text/plain": [
       "28"
      ]
     },
     "execution_count": 4,
     "metadata": {},
     "output_type": "execute_result"
    }
   ],
   "source": [
    "import sys\n",
    "sys.getsizeof(5)"
   ]
  },
  {
   "cell_type": "markdown",
   "metadata": {},
   "source": [
    "## Hmmm."
   ]
  },
  {
   "cell_type": "code",
   "execution_count": 5,
   "metadata": {},
   "outputs": [
    {
     "name": "stdout",
     "output_type": "stream",
     "text": [
      "0x562D_2D3C_ |  0 1 2 3 4 5 6 7  8 9 a b c d e f  0 1 2 3 4 5 6 7  8 9 a b c d e f\n",
      "        A760 | 0900000000000000 80e7362d2d560000 ffffffffffffffff 0400000000000000\n",
      "        A780 | 1100000000000000 80e7362d2d560000 ffffffffffffffff 0300000000000000\n",
      "        A7A0 | 4000000000000000 80e7362d2d560000 ffffffffffffffff 0200000000000000\n",
      "        A7C0 | 4f02000000000000 80e7362d2d560000 ffffffffffffffff 0100000000000000\n",
      "        A7E0 | e510000000000000 80e7362d2d560000 0000000000000000 0000000000000000\n",
      "        A800 | e408000000000000 80e7362d2d560000 0100000000000000 0100000000000000\n",
      "        A820 | 4d04000000000000 80e7362d2d560000 0100000000000000 0200000000000000\n",
      "        A840 | 0002000000000000 80e7362d2d560000 0100000000000000 0300000000000000\n",
      "        A860 | de01000000000000 80e7362d2d560000 0100000000000000 0400000000000000\n"
     ]
    }
   ],
   "source": [
    "import probes\n",
    "digger = probes.MemoryDigger(start=id(-4), end=id(5))\n",
    "# probes.hex_view_compact(digger.mem, offset=digger.start)\n",
    "digger.hex_view_compact()"
   ]
  },
  {
   "cell_type": "code",
   "execution_count": null,
   "metadata": {},
   "outputs": [],
   "source": []
  },
  {
   "cell_type": "markdown",
   "metadata": {},
   "source": [
    "# Intelligence Reports\n",
    "\n",
    "## `PyObject_VAR_HEAD`\n",
    "\n",
    "Preprocessor definition, defined as (`object.h:96`) `PyVarObject ob_base`.\n",
    "\n",
    "`PyVarObject` is (`object.h:113`):\n",
    "\n",
    "```c\n",
    "typedef struct {\n",
    "    PyObject ob_base;\n",
    "    Py_ssize_t ob_size; /* Number of items in variable part */\n",
    "} PyVarObject;\n",
    "```\n",
    "\n",
    "`PyObject` is (`object.h:104`): \n",
    "```c\n",
    "typedef struct _object {\n",
    "    _PyObject_HEAD_EXTRA\n",
    "    Py_ssize_t ob_refcnt;\n",
    "    struct _typeobject *ob_type;\n",
    "} PyObject;\n",
    "```\n",
    "\n",
    "* `_PyObject_HEAD_EXTRA` is empty unless compiled with `PyTRACE_REFS` for debugging.\n",
    "* `Py_ssize_t` \n",
    "    * is `Py_intptr_t` (`pyport.h:114`) \n",
    "    * which is `intptr_t` (`pyport.h:98`) \n",
    "    * which C9X on 64-bit platforms is a `long int` (64 bits/8 bytes)\n",
    "    \n",
    "## All Together\n",
    "\n",
    "* `struct _longobject`\n",
    "    * `PyObject_VAR_HEAD` preprocessor value\n",
    "        * `PyVarObject ob_base`\n",
    "            * `PyObject ob_base`\n",
    "                * `int64_t ob_refcnt` 8 bytes: Object reference counter\n",
    "                * `struct _typeobject *ob_type` 8 bytes: Pointer to the object type\n",
    "            * `int64_t ob_size` 8 bytes: Object size\n",
    "    * `digit ob_digit[1]`\n",
    "        * `int32_t` 4 bytes: a \"digit\" holding 30 bits\n",
    "    \n",
    "So in our memory:\n",
    "\n",
    "```\n",
    "       0  1  2  3   4  5  6  7\n",
    "--------------------------------\n",
    "00 | [e8 01 00 00  00 00 00 00]   # int64 ob_refcnt (ref counter)\n",
    "08 | [80 47 1e db  f7 55 00 00]   # pointer to object\n",
    "10 | [01 00 00 00  00 00 00 00]   # int64 object \"size\"\n",
    "18 | [04 00 00 00] 00 00 00 00    # int32 digit  [32 bits of alignment padding]\n",
    "```\n"
   ]
  },
  {
   "cell_type": "code",
   "execution_count": 6,
   "metadata": {},
   "outputs": [
    {
     "name": "stdout",
     "output_type": "stream",
     "text": [
      "0x7F91_2C63_ |  0  1  2  3  4  5  6  7   8  9  a  b  c  d  e  f\n",
      "        4A08 | 03 00 00 00 00 00 00 00  80 e7 36 2d 2d 56 00 00\n",
      "        4A18 | 07 00 00 00 00 00 00 00  00 00 00 00 00 00 00 00\n",
      "        4A28 | 00 00 00 00 00 00 00 00  00 00 00 00 00 00 00 00\n",
      "        4A38 | 01 00 00 00  \n"
     ]
    }
   ],
   "source": [
    "int180 = 2 ** 180\n",
    "dig180 = probes.MemoryDigger.view_object(int180)\n",
    "dig180.hex_view()"
   ]
  },
  {
   "cell_type": "code",
   "execution_count": 7,
   "metadata": {},
   "outputs": [
    {
     "name": "stdout",
     "output_type": "stream",
     "text": [
      "0x7F91_2C63_ |  0  1  2  3  4  5  6  7   8  9  a  b  c  d  e  f\n",
      "        4F48 | 03 00 00 00 00 00 00 00  80 e7 36 2d 2d 56 00 00\n",
      "        4F58 | 06 00 00 00 00 00 00 00  ff ff ff 3f ff ff ff 3f\n",
      "        4F68 | ff ff ff 3f ff ff ff 3f  ff ff ff 3f ff ff ff 3f\n"
     ]
    }
   ],
   "source": [
    "int180_less1 = 2 ** 180 - 1\n",
    "dig180_less1 = probes.MemoryDigger.view_object(int180_less1)\n",
    "dig180_less1.hex_view()"
   ]
  },
  {
   "cell_type": "code",
   "execution_count": null,
   "metadata": {},
   "outputs": [],
   "source": []
  }
 ],
 "metadata": {
  "kernelspec": {
   "display_name": "Python 3",
   "language": "python",
   "name": "python3"
  },
  "language_info": {
   "codemirror_mode": {
    "name": "ipython",
    "version": 3
   },
   "file_extension": ".py",
   "mimetype": "text/x-python",
   "name": "python",
   "nbconvert_exporter": "python",
   "pygments_lexer": "ipython3",
   "version": "3.7.2"
  }
 },
 "nbformat": 4,
 "nbformat_minor": 2
}
