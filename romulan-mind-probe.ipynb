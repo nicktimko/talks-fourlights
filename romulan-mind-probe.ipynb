{
 "cells": [
  {
   "cell_type": "code",
   "execution_count": 1,
   "metadata": {},
   "outputs": [],
   "source": [
    "import ctypes"
   ]
  },
  {
   "cell_type": "code",
   "execution_count": 2,
   "metadata": {},
   "outputs": [],
   "source": [
    "mem_loc = id(4)\n",
    "\n",
    "mem = []\n",
    "for x in range(256):\n",
    "    mem.append(ctypes.c_char.from_address(mem_loc + x).value[0])\n",
    "mem = bytes(mem)"
   ]
  },
  {
   "cell_type": "code",
   "execution_count": 3,
   "metadata": {
    "scrolled": true
   },
   "outputs": [
    {
     "name": "stdout",
     "output_type": "stream",
     "text": [
      "e2010000000000008077806e4f56000001000000000000000400000000000000\n",
      "15010000000000008077806e4f56000001000000000000000500000000000000\n",
      "f0000000000000008077806e4f56000001000000000000000600000000000000\n",
      "ae000000000000008077806e4f56000001000000000000000700000000000000\n",
      "fc000000000000008077806e4f56000001000000000000000800000000000000\n",
      "89000000000000008077806e4f56000001000000000000000900000000000000\n",
      "94000000000000008077806e4f56000001000000000000000a00000000000000\n",
      "85000000000000008077806e4f56000001000000000000000b00000000000000\n"
     ]
    }
   ],
   "source": [
    "spacing = 32  # emperical\n",
    "for n in range(len(mem) // spacing):\n",
    "    print(mem[n*spacing:(n+1)*spacing].hex())"
   ]
  },
  {
   "cell_type": "code",
   "execution_count": 4,
   "metadata": {},
   "outputs": [
    {
     "data": {
      "text/plain": [
       "4"
      ]
     },
     "execution_count": 4,
     "metadata": {},
     "output_type": "execute_result"
    }
   ],
   "source": [
    "mem[24]"
   ]
  },
  {
   "cell_type": "code",
   "execution_count": 5,
   "metadata": {},
   "outputs": [
    {
     "data": {
      "text/plain": [
       "5"
      ]
     },
     "execution_count": 5,
     "metadata": {},
     "output_type": "execute_result"
    }
   ],
   "source": [
    "mem[spacing + 24]"
   ]
  },
  {
   "cell_type": "markdown",
   "metadata": {},
   "source": [
    "Hmmmm"
   ]
  },
  {
   "cell_type": "code",
   "execution_count": null,
   "metadata": {},
   "outputs": [],
   "source": []
  }
 ],
 "metadata": {
  "kernelspec": {
   "display_name": "Python 3",
   "language": "python",
   "name": "python3"
  },
  "language_info": {
   "codemirror_mode": {
    "name": "ipython",
    "version": 3
   },
   "file_extension": ".py",
   "mimetype": "text/x-python",
   "name": "python",
   "nbconvert_exporter": "python",
   "pygments_lexer": "ipython3",
   "version": "3.7.2"
  }
 },
 "nbformat": 4,
 "nbformat_minor": 2
}
